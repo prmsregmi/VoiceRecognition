{
 "cells": [
  {
   "cell_type": "markdown",
   "metadata": {},
   "source": [
    "## Dependencies required are pyaudio, speechrecognition, playsound, gTTS"
   ]
  },
  {
   "cell_type": "code",
   "execution_count": 1,
   "metadata": {},
   "outputs": [],
   "source": [
    "import speech_recognition as sr\n",
    "import os, pyaudio, wave, time\n",
    "from gtts import gTTS\n",
    "from playsound import playsound\n",
    "from threading import Thread\n",
    "recognizer=sr.Recognizer()"
   ]
  },
  {
   "cell_type": "code",
   "execution_count": null,
   "metadata": {},
   "outputs": [],
   "source": [
    "#generate dummy questions\n",
    "text = [\"के तपाईको टाउको दुख्छ\", \"के तपाइलाई ज्वरो छ \", \"के तपाई को नाक बग्छ \", \"के तपाइलाई सास फेर्न समस्या छ \"]\n",
    "for i in range(0, len(text)):\n",
    "    speech = gTTS(text[i], lang = \"en-IN\", slow = False)\n",
    "    name=\"questions/text_\"+str(i)+\".mp3\"\n",
    "    speech.save(name)"
   ]
  },
  {
   "cell_type": "code",
   "execution_count": 2,
   "metadata": {},
   "outputs": [],
   "source": [
    "def recognize(filename, lang=\"ne-NP\"):\n",
    "    my_file=sr.AudioFile(filename)\n",
    "    with my_file as source:\n",
    "        recognizer.adjust_for_ambient_noise(source)\n",
    "        audio = recognizer.record(source)\n",
    "    try:\n",
    "        output=recognizer.recognize_google(audio, language=lang)\n",
    "    except sr.RequestError:\n",
    "        output=\"API unavailable or did not response\"\n",
    "    except sr.UnknownValueError:\n",
    "        output=\"Did not recognize the audio\"\n",
    "    return output"
   ]
  },
  {
   "cell_type": "code",
   "execution_count": 3,
   "metadata": {},
   "outputs": [],
   "source": [
    "def listen_and_recognize(lang=\"ne-NP\"):\n",
    "    mic = sr.Microphone(device_index=1)\n",
    "    with mic as source:\n",
    "        recognizer.adjust_for_ambient_noise(source)\n",
    "        audio = recognizer.listen(source)\n",
    "    try:\n",
    "        output=recognizer.recognize_google(audio, language=lang)\n",
    "    except sr.RequestError:\n",
    "        output=\"API unavailable or did not response\"\n",
    "    except sr.UnknownValueError:\n",
    "        output=\"Did not recognize the audio\"\n",
    "    return output"
   ]
  },
  {
   "cell_type": "code",
   "execution_count": 4,
   "metadata": {},
   "outputs": [],
   "source": [
    "def listen_and_save(num, lang=\"ne-NP\"):\n",
    "    mic = sr.Microphone(device_index=1)\n",
    "    with mic as source:\n",
    "        audio = recognizer.listen(source)\n",
    "        filename=\"recorded/rec_\"+str(num)+\".wav\"\n",
    "        with open(filename, \"wb\") as f:\n",
    "            f.write(audio.get_wav_data())"
   ]
  },
  {
   "cell_type": "code",
   "execution_count": 3,
   "metadata": {},
   "outputs": [],
   "source": [
    "def record_and_save(num):\n",
    "    time.sleep(1)\n",
    "    print(\"go\")\n",
    "    chunk = 1024\n",
    "    sample_format = pyaudio.paInt16\n",
    "    channels = 2\n",
    "    fs = 44100\n",
    "    seconds = 5\n",
    "    filename = \"recorded/rec_\"+str(num)+\".wav\"\n",
    "\n",
    "    p = pyaudio.PyAudio()\n",
    "\n",
    "    stream = p.open(format=sample_format,\n",
    "                    channels=channels,\n",
    "                    rate=fs,\n",
    "                    frames_per_buffer=chunk,\n",
    "                    input=True)\n",
    "\n",
    "    frames = []\n",
    "\n",
    "\n",
    "    for i in range(0, int(fs / chunk * seconds)):\n",
    "        data = stream.read(chunk)\n",
    "        frames.append(data)\n",
    "\n",
    "\n",
    "    stream.stop_stream()\n",
    "    stream.close()\n",
    "    p.terminate()\n",
    "\n",
    "    wf = wave.open(filename, 'wb')\n",
    "    wf.setnchannels(channels)\n",
    "    wf.setsampwidth(p.get_sample_size(sample_format))\n",
    "    wf.setframerate(fs)\n",
    "    wf.writeframes(b''.join(frames))\n",
    "    wf.close()"
   ]
  },
  {
   "cell_type": "code",
   "execution_count": null,
   "metadata": {},
   "outputs": [],
   "source": [
    "#listen and recognize here\n",
    "for i in range(0, 4):\n",
    "    temp=\"questions/text_\"+str(i)+\".mp3\"\n",
    "    playsound(temp)\n",
    "    print(listen_and_recognize(i))"
   ]
  },
  {
   "cell_type": "code",
   "execution_count": null,
   "metadata": {},
   "outputs": [],
   "source": [
    "#listen and save here\n",
    "for i in range(0, 4):\n",
    "    temp=\"questions/text_\"+str(i)+\".mp3\"\n",
    "    playsound(temp)\n",
    "    print(listen_and_save(i))"
   ]
  },
  {
   "cell_type": "code",
   "execution_count": 5,
   "metadata": {},
   "outputs": [
    {
     "name": "stdout",
     "output_type": "stream",
     "text": [
      "go\n",
      "go\n",
      "go\n",
      "go\n"
     ]
    }
   ],
   "source": [
    "#record here\n",
    "for i in range(0, 4):\n",
    "    temp=\"questions/text_\"+str(i)+\".mp3\"\n",
    "    \n",
    "    #thread creation\n",
    "    t1=Thread(target=playsound, args=(temp,))\n",
    "    t2=Thread(target=record_and_save, args=(i,))\n",
    "\n",
    "    t1.start()\n",
    "    t2.start()\n",
    "\n",
    "    t1.join()\n",
    "    t2.join()"
   ]
  },
  {
   "cell_type": "code",
   "execution_count": 14,
   "metadata": {},
   "outputs": [
    {
     "name": "stdout",
     "output_type": "stream",
     "text": [
      "दुख्छ\n",
      "ख\n",
      "बन्दैन\n",
      "हैन\n"
     ]
    }
   ],
   "source": [
    "#recognize here\n",
    "for i in range(0, 4):\n",
    "    filename=\"recorded/rec_\"+str(i)+\".wav\"\n",
    "    print(recognize(filename))"
   ]
  },
  {
   "cell_type": "code",
   "execution_count": null,
   "metadata": {},
   "outputs": [],
   "source": []
  }
 ],
 "metadata": {
  "kernelspec": {
   "display_name": "Python 3",
   "language": "python",
   "name": "python3"
  },
  "language_info": {
   "codemirror_mode": {
    "name": "ipython",
    "version": 3
   },
   "file_extension": ".py",
   "mimetype": "text/x-python",
   "name": "python",
   "nbconvert_exporter": "python",
   "pygments_lexer": "ipython3",
   "version": "3.7.4"
  }
 },
 "nbformat": 4,
 "nbformat_minor": 2
}
